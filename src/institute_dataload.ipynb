{
 "cells": [
  {
   "cell_type": "code",
   "execution_count": 1,
   "metadata": {},
   "outputs": [
    {
     "name": "stdout",
     "output_type": "stream",
     "text": [
      "               institute_id                              institute_name  \\\n",
      "0  6655c53d12a5ecbbb8d60bc7                      University of Helsinki   \n",
      "1  6640ae46357bb23c781f7cc5                                       VAMIA   \n",
      "2  6564ecca6fcf32747f42b2f2                                   Univacity   \n",
      "3  63c00d416d8621c06f88f9e4           International European University   \n",
      "4  63ca77e2d451eb29380b6a38  Universidad Católica San Antonio de Murcia   \n",
      "\n",
      "  institute_country institute_type  total_views  total_impressions  avg_ctr  \\\n",
      "0           Finland         PUBLIC         2316               8425    0.275   \n",
      "1           Finland        PRIVATE        27763             169202    0.164   \n",
      "2    United Kingdom        PRIVATE           73                483    0.151   \n",
      "3            Poland        PRIVATE       272410            2058971    0.132   \n",
      "4             Spain        PRIVATE       282537            2238218    0.126   \n",
      "\n",
      "   rank_by_ctr  \n",
      "0            1  \n",
      "1            2  \n",
      "2            3  \n",
      "3            4  \n",
      "4            5  \n"
     ]
    }
   ],
   "source": [
    "import pandas as pd\n",
    "import os\n",
    "\n",
    "parquet_path = '../local_data/gold/gold_institute_engagement/part-00000-tid-8721749531217473260-c3f47482-49cb-433f-b699-ef054b03890e-4609-1-c000.snappy.parquet'\n",
    "\n",
    "# Check if file exists first\n",
    "assert os.path.exists(parquet_path), f\"File not found: {parquet_path}\"\n",
    "\n",
    "# Load Parquet file into DataFrame\n",
    "df_institutes = pd.read_parquet(parquet_path, engine='pyarrow')\n",
    "\n",
    "print(df_institutes.head())\n"
   ]
  },
  {
   "cell_type": "code",
   "execution_count": 2,
   "metadata": {},
   "outputs": [],
   "source": [
    "import psycopg2\n",
    "from dotenv import load_dotenv\n",
    "import os\n",
    "\n",
    "# Load env vars\n",
    "load_dotenv()\n",
    "\n",
    "conn = psycopg2.connect(\n",
    "    host=os.getenv(\"PG_HOST\"),\n",
    "    port=os.getenv(\"PG_PORT\"),\n",
    "    user=os.getenv(\"PG_USER\"),\n",
    "    password=os.getenv(\"PG_PASSWORD\"),\n",
    "    dbname=os.getenv(\"PG_DB\")\n",
    ")\n",
    "\n",
    "cur = conn.cursor()"
   ]
  },
  {
   "cell_type": "markdown",
   "metadata": {},
   "source": [
    "\n",
    "#### Country_id links each institution to the right country via its numeric ID.This is necessary for relational integrity and proper joins in thedatabase."
   ]
  },
  {
   "cell_type": "code",
   "execution_count": null,
   "metadata": {},
   "outputs": [],
   "source": [
    "cur.execute(\"SELECT country_id, institute_country FROM countries;\")\n",
    "rows = cur.fetchall()\n",
    "\n",
    "# mapping from country name to country_id\n",
    "country_mapping = {row[1]: row[0] for row in rows}\n",
    "\n",
    "cur.close()\n",
    "conn.close()\n",
    "\n",
    "print(country_mapping) "
   ]
  },
  {
   "cell_type": "code",
   "execution_count": 12,
   "metadata": {},
   "outputs": [
    {
     "name": "stdout",
     "output_type": "stream",
     "text": [
      "Unmapped countries: ['Ghana' 'Rwanda' 'Zimbabwe']\n"
     ]
    }
   ],
   "source": [
    "# Show unmapped countries\n",
    "unmapped = df_institutes[df_institutes['country_id'].isna()]['institute_country'].unique()\n",
    "print(\"Unmapped countries:\", unmapped)"
   ]
  },
  {
   "cell_type": "code",
   "execution_count": 13,
   "metadata": {},
   "outputs": [],
   "source": [
    "country_mapping.update({\n",
    "    'Ghana': 27,\n",
    "    'Rwanda': 28,\n",
    "    'Zimbabwe': 29\n",
    "})"
   ]
  },
  {
   "cell_type": "code",
   "execution_count": 14,
   "metadata": {},
   "outputs": [],
   "source": [
    "df_institutes['country_id'] = df_institutes['institute_country'].map(country_mapping).astype(int)"
   ]
  },
  {
   "cell_type": "code",
   "execution_count": 15,
   "metadata": {},
   "outputs": [
    {
     "name": "stdout",
     "output_type": "stream",
     "text": [
      "  institute_country  country_id\n",
      "0           Finland          21\n",
      "1           Finland          21\n",
      "2    United Kingdom           1\n",
      "3            Poland          14\n",
      "4             Spain           8\n"
     ]
    }
   ],
   "source": [
    "print(df_institutes[['institute_country', 'country_id']].head())"
   ]
  },
  {
   "cell_type": "code",
   "execution_count": 16,
   "metadata": {},
   "outputs": [],
   "source": [
    "df_to_insert = df_institutes.rename(columns={\n",
    "    'institute_name': 'institution_name',\n",
    "    'institute_type': 'institution_type',\n",
    "    'avg_ctr': 'ctr',\n",
    "    'total_views': 'total_views',\n",
    "    'total_impressions': 'total_impressions'\n",
    "})\n",
    "\n",
    "# Keep only the needed columns\n",
    "df_to_insert = df_to_insert[['institution_name', 'country_id', 'institution_type', 'ctr', 'total_views', 'total_impressions']]"
   ]
  },
  {
   "cell_type": "code",
   "execution_count": 17,
   "metadata": {},
   "outputs": [
    {
     "name": "stdout",
     "output_type": "stream",
     "text": [
      "                             institution_name  country_id institution_type  \\\n",
      "0                      University of Helsinki          21           PUBLIC   \n",
      "1                                       VAMIA          21          PRIVATE   \n",
      "2                                   Univacity           1          PRIVATE   \n",
      "3           International European University          14          PRIVATE   \n",
      "4  Universidad Católica San Antonio de Murcia           8          PRIVATE   \n",
      "\n",
      "     ctr  total_views  total_impressions  \n",
      "0  0.275         2316               8425  \n",
      "1  0.164        27763             169202  \n",
      "2  0.151           73                483  \n",
      "3  0.132       272410            2058971  \n",
      "4  0.126       282537            2238218  \n"
     ]
    }
   ],
   "source": [
    "print(df_to_insert.head())"
   ]
  },
  {
   "cell_type": "code",
   "execution_count": 6,
   "metadata": {},
   "outputs": [],
   "source": [
    "conn.rollback()"
   ]
  },
  {
   "cell_type": "code",
   "execution_count": 36,
   "metadata": {},
   "outputs": [
    {
     "name": "stdout",
     "output_type": "stream",
     "text": [
      "       institution_name  country_id\n",
      "90  Easy Travel Consult          27\n",
      "93     Elrukz Group LTD          28\n",
      "94        Study Connect          29\n",
      "96      ApplyUni Abroad          27\n"
     ]
    }
   ],
   "source": [
    "existing_country_ids = {1, 2, 3, 4, 5, 6, 7, 8, 9, 10, 11, 12, 13, 14, 15, 16, 17, 18, 19, 20, 21, 22, 23, 24, 25, 26}\n",
    "\n",
    "invalid_country_rows = df_to_insert[~df_to_insert['country_id'].isin(existing_country_ids)]\n",
    "\n",
    "print(invalid_country_rows[['institution_name', 'country_id']])"
   ]
  },
  {
   "cell_type": "code",
   "execution_count": 40,
   "metadata": {},
   "outputs": [
    {
     "name": "stdout",
     "output_type": "stream",
     "text": [
      "    country_id institute_country\n",
      "90          27             Ghana\n",
      "93          28            Rwanda\n",
      "94          29          Zimbabwe\n"
     ]
    }
   ],
   "source": [
    "missing_ids = {27, 28, 29}\n",
    "missing_countries = df_institutes[df_institutes['country_id'].isin(missing_ids)][['country_id', 'institute_country']].drop_duplicates()\n",
    "\n",
    "print(missing_countries)"
   ]
  },
  {
   "cell_type": "code",
   "execution_count": 42,
   "metadata": {},
   "outputs": [],
   "source": [
    "insert_countries_query = \"\"\"\n",
    "INSERT INTO countries (country_id, institute_country)\n",
    "VALUES\n",
    "    (27, 'Ghana'),\n",
    "    (28, 'Rwanda'),\n",
    "    (29, 'Zimbabwe')\n",
    "ON CONFLICT (country_id) DO NOTHING;\n",
    "\"\"\"  # ON CONFLICT avoids duplicate errors if they exist\n",
    "\n",
    "cur = conn.cursor()        # Create cursor\n",
    "cur.execute(insert_countries_query)  # Execute query\n",
    "conn.commit()              # Commit transaction\n",
    "cur.close()                # Close cursor"
   ]
  },
  {
   "cell_type": "code",
   "execution_count": 43,
   "metadata": {},
   "outputs": [],
   "source": [
    "cur = conn.cursor()\n",
    "\n",
    "insert_query = \"\"\"\n",
    "INSERT INTO institutions (\n",
    "    institution_name, country_id, institution_type, ctr, total_views, total_impressions, created_at, updated_at\n",
    ") VALUES (%s, %s, %s, %s, %s, %s, NOW(), NOW())\n",
    "\"\"\"\n",
    "\n",
    "for _, row in df_to_insert.iterrows():\n",
    "    cur.execute(insert_query, (\n",
    "        row['institution_name'],\n",
    "        int(row['country_id']),\n",
    "        row['institution_type'],\n",
    "        float(row['ctr']),\n",
    "        int(row['total_views']),\n",
    "        int(row['total_impressions'])\n",
    "    ))\n",
    "\n",
    "conn.commit()\n",
    "cur.close()"
   ]
  },
  {
   "cell_type": "code",
   "execution_count": null,
   "metadata": {},
   "outputs": [],
   "source": [
    "cur = conn.cursor()\n",
    "cur.execute(\"\"\"\n",
    "    SELECT i.institution_name, c.institute_country, i.institution_type, i.ctr\n",
    "    FROM institutions i\n",
    "    JOIN countries c ON i.country_id = c.country_id\n",
    "    LIMIT 10;\n",
    "\"\"\")\n",
    "rows = cur.fetchall()\n",
    "cur.close()\n",
    "\n",
    "for row in rows:\n",
    "    print(row)"
   ]
  }
 ],
 "metadata": {
  "kernelspec": {
   "display_name": "univacity-mcp (3.11.8)",
   "language": "python",
   "name": "python3"
  },
  "language_info": {
   "codemirror_mode": {
    "name": "ipython",
    "version": 3
   },
   "file_extension": ".py",
   "mimetype": "text/x-python",
   "name": "python",
   "nbconvert_exporter": "python",
   "pygments_lexer": "ipython3",
   "version": "3.11.8"
  }
 },
 "nbformat": 4,
 "nbformat_minor": 4
}
