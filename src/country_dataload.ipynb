{
 "cells": [
  {
   "cell_type": "markdown",
   "metadata": {},
   "source": [
    " ### Load the country Parquet file into a pandas DataFrame"
   ]
  },
  {
   "cell_type": "code",
   "execution_count": 1,
   "metadata": {},
   "outputs": [
    {
     "name": "stdout",
     "output_type": "stream",
     "text": [
      "  institute_country  num_institutes  total_programs  avg_institute_ctr  \\\n",
      "0    United Kingdom               6             790              0.620   \n",
      "1          Portugal               1              26              0.598   \n",
      "2            Turkey               4             294              0.545   \n",
      "3            Canada               4             320              0.526   \n",
      "4     United States               3             128              0.521   \n",
      "\n",
      "   total_views  total_impressions  country_rank  \\\n",
      "0       915932            2099792             1   \n",
      "1         2852               5724             2   \n",
      "2       311593             997145             3   \n",
      "3       470027            1729844             4   \n",
      "4       407046            1044612             5   \n",
      "\n",
      "                                        top_programs  \n",
      "0  [{'program_name': 'Zoology', 'ctr': 0.33578431...  \n",
      "1  [{'program_name': 'Wine, Tourism and Innovatio...  \n",
      "2  [{'program_name': 'Zootechnique', 'ctr': 0.852...  \n",
      "3  [{'program_name': 'Workplace Safety and Preven...  \n",
      "4  [{'program_name': 'Visual and Performing Arts'...  \n"
     ]
    }
   ],
   "source": [
    "import pandas as pd\n",
    "import os\n",
    "parquet_path = '../local_data/gold/gold_country_program_summary/part-00000-tid-438118432531490293-846e5ad2-ff6b-4689-bb8d-6456d6a7866a-4604-1-c000.snappy.parquet'\n",
    "\n",
    "# Check if file exists first\n",
    "assert os.path.exists(parquet_path), f\"File not found: {parquet_path}\"\n",
    "\n",
    "# Load Parquet file into DataFrame\n",
    "df_countries = pd.read_parquet(parquet_path, engine='pyarrow')\n",
    "print(df_countries.head())\n"
   ]
  },
  {
   "cell_type": "markdown",
   "metadata": {},
   "source": [
    "### Preparing the data in the DataFrame for insert"
   ]
  },
  {
   "cell_type": "code",
   "execution_count": 2,
   "metadata": {},
   "outputs": [],
   "source": [
    "#  converting the top_programs column to JSON strings:\n",
    "import json\n",
    "import numpy as np\n",
    "\n",
    "def convert_for_json(obj):\n",
    "    if isinstance(obj, np.ndarray):\n",
    "        return obj.tolist()  # convert ndarray to list\n",
    "    raise TypeError(f\"Type {type(obj)} not serializable\")\n",
    "\n",
    "df_countries['top_programs_json'] = df_countries['top_programs'].apply(\n",
    "    lambda x: json.dumps(x, default=convert_for_json)\n",
    ")"
   ]
  },
  {
   "cell_type": "code",
   "execution_count": 4,
   "metadata": {},
   "outputs": [
    {
     "data": {
      "text/plain": [
       "Index(['institute_country', 'num_institutes', 'total_programs',\n",
       "       'avg_institute_ctr', 'total_views', 'total_impressions', 'country_rank',\n",
       "       'top_programs', 'top_programs_json'],\n",
       "      dtype='object')"
      ]
     },
     "execution_count": 4,
     "metadata": {},
     "output_type": "execute_result"
    }
   ],
   "source": [
    "df_countries.columns"
   ]
  },
  {
   "cell_type": "code",
   "execution_count": 5,
   "metadata": {},
   "outputs": [
    {
     "name": "stdout",
     "output_type": "stream",
     "text": [
      "  institute_country  num_institutes  total_programs  avg_ctr  total_views  \\\n",
      "0    United Kingdom               6             790    0.620       915932   \n",
      "1          Portugal               1              26    0.598         2852   \n",
      "2            Turkey               4             294    0.545       311593   \n",
      "3            Canada               4             320    0.526       470027   \n",
      "4     United States               3             128    0.521       407046   \n",
      "\n",
      "   total_impressions                                       top_programs  \n",
      "0            2099792  [{\"program_name\": \"Zoology\", \"ctr\": 0.33578431...  \n",
      "1               5724  [{\"program_name\": \"Wine, Tourism and Innovatio...  \n",
      "2             997145  [{\"program_name\": \"Zootechnique\", \"ctr\": 0.852...  \n",
      "3            1729844  [{\"program_name\": \"Workplace Safety and Preven...  \n",
      "4            1044612  [{\"program_name\": \"Visual and Performing Arts\"...  \n"
     ]
    }
   ],
   "source": [
    "# Rename column\n",
    "df_countries = df_countries.rename(columns={'avg_institute_ctr': 'avg_ctr'})\n",
    "\n",
    "# Keep only needed columns for DB insert\n",
    "cols_to_keep = ['institute_country', 'num_institutes', 'total_programs', 'avg_ctr', 'total_views', 'total_impressions', 'top_programs_json']\n",
    "df_countries_clean = df_countries[cols_to_keep]\n",
    "\n",
    "# Rename 'top_programs_json' to 'top_programs' for DB column naming consistency\n",
    "df_countries_clean = df_countries_clean.rename(columns={'top_programs_json': 'top_programs'})\n",
    "\n",
    "print(df_countries_clean.head())"
   ]
  },
  {
   "cell_type": "code",
   "execution_count": 6,
   "metadata": {},
   "outputs": [
    {
     "data": {
      "text/html": [
       "<div>\n",
       "<style scoped>\n",
       "    .dataframe tbody tr th:only-of-type {\n",
       "        vertical-align: middle;\n",
       "    }\n",
       "\n",
       "    .dataframe tbody tr th {\n",
       "        vertical-align: top;\n",
       "    }\n",
       "\n",
       "    .dataframe thead th {\n",
       "        text-align: right;\n",
       "    }\n",
       "</style>\n",
       "<table border=\"1\" class=\"dataframe\">\n",
       "  <thead>\n",
       "    <tr style=\"text-align: right;\">\n",
       "      <th></th>\n",
       "      <th>institute_country</th>\n",
       "      <th>num_institutes</th>\n",
       "      <th>total_programs</th>\n",
       "      <th>avg_ctr</th>\n",
       "      <th>total_views</th>\n",
       "      <th>total_impressions</th>\n",
       "      <th>top_programs</th>\n",
       "    </tr>\n",
       "  </thead>\n",
       "  <tbody>\n",
       "    <tr>\n",
       "      <th>0</th>\n",
       "      <td>United Kingdom</td>\n",
       "      <td>6</td>\n",
       "      <td>790</td>\n",
       "      <td>0.620</td>\n",
       "      <td>915932</td>\n",
       "      <td>2099792</td>\n",
       "      <td>[{\"program_name\": \"Zoology\", \"ctr\": 0.33578431...</td>\n",
       "    </tr>\n",
       "    <tr>\n",
       "      <th>1</th>\n",
       "      <td>Portugal</td>\n",
       "      <td>1</td>\n",
       "      <td>26</td>\n",
       "      <td>0.598</td>\n",
       "      <td>2852</td>\n",
       "      <td>5724</td>\n",
       "      <td>[{\"program_name\": \"Wine, Tourism and Innovatio...</td>\n",
       "    </tr>\n",
       "    <tr>\n",
       "      <th>2</th>\n",
       "      <td>Turkey</td>\n",
       "      <td>4</td>\n",
       "      <td>294</td>\n",
       "      <td>0.545</td>\n",
       "      <td>311593</td>\n",
       "      <td>997145</td>\n",
       "      <td>[{\"program_name\": \"Zootechnique\", \"ctr\": 0.852...</td>\n",
       "    </tr>\n",
       "    <tr>\n",
       "      <th>3</th>\n",
       "      <td>Canada</td>\n",
       "      <td>4</td>\n",
       "      <td>320</td>\n",
       "      <td>0.526</td>\n",
       "      <td>470027</td>\n",
       "      <td>1729844</td>\n",
       "      <td>[{\"program_name\": \"Workplace Safety and Preven...</td>\n",
       "    </tr>\n",
       "    <tr>\n",
       "      <th>4</th>\n",
       "      <td>United States</td>\n",
       "      <td>3</td>\n",
       "      <td>128</td>\n",
       "      <td>0.521</td>\n",
       "      <td>407046</td>\n",
       "      <td>1044612</td>\n",
       "      <td>[{\"program_name\": \"Visual and Performing Arts\"...</td>\n",
       "    </tr>\n",
       "  </tbody>\n",
       "</table>\n",
       "</div>"
      ],
      "text/plain": [
       "  institute_country  num_institutes  total_programs  avg_ctr  total_views  \\\n",
       "0    United Kingdom               6             790    0.620       915932   \n",
       "1          Portugal               1              26    0.598         2852   \n",
       "2            Turkey               4             294    0.545       311593   \n",
       "3            Canada               4             320    0.526       470027   \n",
       "4     United States               3             128    0.521       407046   \n",
       "\n",
       "   total_impressions                                       top_programs  \n",
       "0            2099792  [{\"program_name\": \"Zoology\", \"ctr\": 0.33578431...  \n",
       "1               5724  [{\"program_name\": \"Wine, Tourism and Innovatio...  \n",
       "2             997145  [{\"program_name\": \"Zootechnique\", \"ctr\": 0.852...  \n",
       "3            1729844  [{\"program_name\": \"Workplace Safety and Preven...  \n",
       "4            1044612  [{\"program_name\": \"Visual and Performing Arts\"...  "
      ]
     },
     "execution_count": 6,
     "metadata": {},
     "output_type": "execute_result"
    }
   ],
   "source": [
    "df_countries_clean.head()"
   ]
  },
  {
   "cell_type": "code",
   "execution_count": 2,
   "metadata": {},
   "outputs": [],
   "source": [
    "import psycopg2\n",
    "import os\n",
    "from dotenv import load_dotenv\n",
    "\n",
    "# Load environment variables\n",
    "load_dotenv()\n",
    "\n",
    "conn = psycopg2.connect(\n",
    "    host=os.getenv(\"PG_HOST\"),\n",
    "    port=os.getenv(\"PG_PORT\"),\n",
    "    user=os.getenv(\"PG_USER\"),\n",
    "    password=os.getenv(\"PG_PASSWORD\"),\n",
    "    dbname=os.getenv(\"PG_DB\")\n",
    ")\n",
    "\n",
    "cur = conn.cursor()"
   ]
  },
  {
   "cell_type": "code",
   "execution_count": 8,
   "metadata": {},
   "outputs": [],
   "source": [
    "import json\n",
    "\n",
    "# Convert JSON string in 'top_programs_json' column into actual Python lists/dicts\n",
    "df_countries['top_programs_parsed'] = df_countries['top_programs_json'].apply(json.loads)\n",
    "\n",
    "# Then build records with the parsed JSON column, not the string column\n",
    "records = list(df_countries[[\n",
    "    'institute_country', 'num_institutes', 'total_programs', 'avg_ctr', \n",
    "    'total_views', 'total_impressions', 'top_programs_parsed'\n",
    "]].itertuples(index=False, name=None))"
   ]
  },
  {
   "cell_type": "code",
   "execution_count": 14,
   "metadata": {},
   "outputs": [],
   "source": [
    "conn.rollback()"
   ]
  },
  {
   "cell_type": "code",
   "execution_count": 9,
   "metadata": {},
   "outputs": [],
   "source": [
    "import json\n",
    "\n",
    "records = []\n",
    "for row in df_countries.itertuples(index=False):\n",
    "    top_programs_jsonb = json.loads(row.top_programs_json)\n",
    "    records.append((\n",
    "        row.institute_country,\n",
    "        row.num_institutes,\n",
    "        row.total_programs,\n",
    "        row.avg_ctr,\n",
    "        row.total_views,\n",
    "        row.total_impressions,\n",
    "        top_programs_jsonb\n",
    "    ))"
   ]
  },
  {
   "cell_type": "code",
   "execution_count": null,
   "metadata": {},
   "outputs": [],
   "source": [
    "from psycopg2.extras import execute_values, Json\n",
    "\n",
    "# Create cursor\n",
    "cur = conn.cursor()\n",
    "\n",
    "# Prepare records as tuples, wrapping dict with Json()\n",
    "records = [\n",
    "    (\n",
    "        row.institute_country,\n",
    "        row.num_institutes,\n",
    "        row.total_programs,\n",
    "        row.avg_ctr,\n",
    "        row.total_views,\n",
    "        row.total_impressions,\n",
    "        Json(row.top_programs_json)  \n",
    "    )\n",
    "    for row in df_countries.itertuples(index=False)\n",
    "]\n",
    "\n",
    "insert_query = \"\"\"\n",
    "INSERT INTO countries (\n",
    "    institute_country, num_institutes, total_programs, avg_ctr, total_views, total_impressions, top_programs\n",
    ")\n",
    "VALUES %s\n",
    "ON CONFLICT (institute_country) DO UPDATE SET\n",
    "    num_institutes = EXCLUDED.num_institutes,\n",
    "    total_programs = EXCLUDED.total_programs,\n",
    "    avg_ctr = EXCLUDED.avg_ctr,\n",
    "    total_views = EXCLUDED.total_views,\n",
    "    total_impressions = EXCLUDED.total_impressions,\n",
    "    top_programs = EXCLUDED.top_programs,\n",
    "    updated_at = CURRENT_TIMESTAMP;\n",
    "\"\"\"\n",
    "\n",
    "execute_values(cur, insert_query, records)\n",
    "conn.commit()"
   ]
  },
  {
   "cell_type": "code",
   "execution_count": 3,
   "metadata": {},
   "outputs": [
    {
     "name": "stdout",
     "output_type": "stream",
     "text": [
      "\n",
      "Schema for table countries:\n",
      "updated_at: timestamp without time zone\n",
      "country_id: integer\n",
      "num_institutes: integer\n",
      "total_programs: integer\n",
      "avg_ctr: numeric\n",
      "total_views: bigint\n",
      "total_impressions: bigint\n",
      "top_programs: jsonb\n",
      "created_at: timestamp without time zone\n",
      "institute_country: text\n",
      "\n",
      "Schema for table institutions:\n",
      "updated_at: timestamp without time zone\n",
      "created_at: timestamp without time zone\n",
      "institution_id: integer\n",
      "country_id: integer\n",
      "ctr: numeric\n",
      "total_views: bigint\n",
      "total_impressions: bigint\n",
      "institution_name: text\n",
      "institution_type: text\n",
      "\n",
      "Schema for table programs:\n",
      "updated_at: timestamp without time zone\n",
      "program_id: integer\n",
      "institution_id: integer\n",
      "country_id: integer\n",
      "duration_months: integer\n",
      "tuition: numeric\n",
      "ctr: numeric\n",
      "total_views: bigint\n",
      "total_impressions: bigint\n",
      "created_at: timestamp without time zone\n",
      "program_name: text\n"
     ]
    }
   ],
   "source": [
    "with conn.cursor() as cur:\n",
    "    for table in ['countries', 'institutions', 'programs']:\n",
    "        print(f\"\\nSchema for table {table}:\")\n",
    "        cur.execute(f\"\"\"\n",
    "            SELECT column_name, data_type \n",
    "            FROM information_schema.columns \n",
    "            WHERE table_name = '{table}';\n",
    "        \"\"\")\n",
    "        columns = cur.fetchall()\n",
    "        for col in columns:\n",
    "            print(f\"{col[0]}: {col[1]}\")"
   ]
  }
 ],
 "metadata": {
  "kernelspec": {
   "display_name": "univacity-mcp (3.11.8)",
   "language": "python",
   "name": "python3"
  },
  "language_info": {
   "codemirror_mode": {
    "name": "ipython",
    "version": 3
   },
   "file_extension": ".py",
   "mimetype": "text/x-python",
   "name": "python",
   "nbconvert_exporter": "python",
   "pygments_lexer": "ipython3",
   "version": "3.11.8"
  }
 },
 "nbformat": 4,
 "nbformat_minor": 4
}
