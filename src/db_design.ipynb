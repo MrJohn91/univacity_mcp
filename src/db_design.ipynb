{
 "cells": [
  {
   "cell_type": "code",
   "execution_count": 2,
   "metadata": {},
   "outputs": [],
   "source": [
    "import psycopg2\n",
    "from dotenv import load_dotenv\n",
    "import os\n",
    "\n",
    "# Load env vars\n",
    "load_dotenv()\n",
    "\n",
    "conn = psycopg2.connect(\n",
    "    host=os.getenv(\"PG_HOST\"),\n",
    "    port=os.getenv(\"PG_PORT\"),\n",
    "    user=os.getenv(\"PG_USER\"),\n",
    "    password=os.getenv(\"PG_PASSWORD\"),\n",
    "    dbname=os.getenv(\"PG_DB\")\n",
    ")\n",
    "\n",
    "cur = conn.cursor()\n",
    "\n",
    "schema_sql = \"\"\"\n",
    "CREATE TABLE IF NOT EXISTS countries (\n",
    "    country_id SERIAL PRIMARY KEY,\n",
    "    institute_country TEXT NOT NULL,\n",
    "    num_institutes INT DEFAULT 0,\n",
    "    total_programs INT DEFAULT 0,\n",
    "    avg_ctr NUMERIC(5,2) DEFAULT 0.00,\n",
    "    total_views BIGINT DEFAULT 0,\n",
    "    total_impressions BIGINT DEFAULT 0,\n",
    "    top_programs JSONB,\n",
    "    created_at TIMESTAMP DEFAULT CURRENT_TIMESTAMP,\n",
    "    updated_at TIMESTAMP DEFAULT CURRENT_TIMESTAMP\n",
    ");\n",
    "\n",
    "CREATE TABLE IF NOT EXISTS institutions (\n",
    "    institution_id SERIAL PRIMARY KEY,\n",
    "    institution_name TEXT NOT NULL,\n",
    "    country_id INT REFERENCES countries(country_id) ON DELETE CASCADE,\n",
    "    institution_type TEXT,\n",
    "    ctr NUMERIC(5,2) DEFAULT 0.00,\n",
    "    total_views BIGINT DEFAULT 0,\n",
    "    total_impressions BIGINT DEFAULT 0,\n",
    "    top_programs JSONB,\n",
    "    created_at TIMESTAMP DEFAULT CURRENT_TIMESTAMP,\n",
    "    updated_at TIMESTAMP DEFAULT CURRENT_TIMESTAMP\n",
    ");\n",
    "\n",
    "CREATE TABLE IF NOT EXISTS programs (\n",
    "    program_id SERIAL PRIMARY KEY,\n",
    "    program_name TEXT NOT NULL,\n",
    "    institution_id INT REFERENCES institutions(institution_id) ON DELETE CASCADE,\n",
    "    country_id INT REFERENCES countries(country_id) ON DELETE CASCADE,\n",
    "    duration_months INT,\n",
    "    tuition NUMERIC(12,2),\n",
    "    ctr NUMERIC(5,2) DEFAULT 0.00,\n",
    "    total_views BIGINT DEFAULT 0,\n",
    "    total_impressions BIGINT DEFAULT 0,\n",
    "    created_at TIMESTAMP DEFAULT CURRENT_TIMESTAMP,\n",
    "    updated_at TIMESTAMP DEFAULT CURRENT_TIMESTAMP\n",
    ");\n",
    "\"\"\"\n",
    "\n",
    "cur.execute(schema_sql)\n",
    "conn.commit()\n"
   ]
  },
  {
   "cell_type": "code",
   "execution_count": 7,
   "metadata": {},
   "outputs": [
    {
     "data": {
      "text/plain": [
       "[('countries',), ('institutions',), ('programs',)]"
      ]
     },
     "execution_count": 7,
     "metadata": {},
     "output_type": "execute_result"
    }
   ],
   "source": [
    "with conn.cursor() as cur:\n",
    "    cur.execute(\"\"\"\n",
    "        SELECT table_name \n",
    "        FROM information_schema.tables \n",
    "        WHERE table_schema = 'public';\n",
    "    \"\"\")\n",
    "    tables = cur.fetchall()\n",
    "\n",
    "tables"
   ]
  },
  {
   "cell_type": "code",
   "execution_count": 3,
   "metadata": {},
   "outputs": [
    {
     "name": "stdout",
     "output_type": "stream",
     "text": [
      "\n",
      "Schema for table countries:\n",
      "updated_at: timestamp without time zone\n",
      "country_id: integer\n",
      "num_institutes: integer\n",
      "total_programs: integer\n",
      "avg_ctr: numeric\n",
      "total_views: bigint\n",
      "total_impressions: bigint\n",
      "top_programs: jsonb\n",
      "created_at: timestamp without time zone\n",
      "institute_country: text\n",
      "\n",
      "Schema for table institutions:\n",
      "updated_at: timestamp without time zone\n",
      "created_at: timestamp without time zone\n",
      "institution_id: integer\n",
      "country_id: integer\n",
      "ctr: numeric\n",
      "total_views: bigint\n",
      "total_impressions: bigint\n",
      "institution_name: text\n",
      "institution_type: text\n",
      "\n",
      "Schema for table programs:\n",
      "updated_at: timestamp without time zone\n",
      "program_id: integer\n",
      "institution_id: integer\n",
      "country_id: integer\n",
      "duration_months: integer\n",
      "tuition: numeric\n",
      "ctr: numeric\n",
      "total_views: bigint\n",
      "total_impressions: bigint\n",
      "created_at: timestamp without time zone\n",
      "program_name: text\n"
     ]
    }
   ],
   "source": [
    "with conn.cursor() as cur:\n",
    "    for table in ['countries', 'institutions', 'programs']:\n",
    "        print(f\"\\nSchema for table {table}:\")\n",
    "        cur.execute(f\"\"\"\n",
    "            SELECT column_name, data_type \n",
    "            FROM information_schema.columns \n",
    "            WHERE table_name = '{table}';\n",
    "        \"\"\")\n",
    "        columns = cur.fetchall()\n",
    "        for col in columns:\n",
    "            print(f\"{col[0]}: {col[1]}\")"
   ]
  },
  {
   "cell_type": "code",
   "execution_count": null,
   "metadata": {},
   "outputs": [],
   "source": [
    "cur = conn.cursor() \n",
    "\n",
    "alter_query = \"\"\"\n",
    "ALTER TABLE countries\n",
    "ADD CONSTRAINT countries_institute_country_key UNIQUE (institute_country);\n",
    "\"\"\"\n",
    "\n",
    "cur.execute(alter_query)\n",
    "conn.commit()\n",
    "cur.close()"
   ]
  },
  {
   "cell_type": "code",
   "execution_count": 11,
   "metadata": {},
   "outputs": [],
   "source": [
    "conn.rollback()"
   ]
  },
  {
   "cell_type": "code",
   "execution_count": 13,
   "metadata": {},
   "outputs": [],
   "source": [
    "cur = conn.cursor()\n",
    "\n",
    "cur.execute(\"\"\"\n",
    "    ALTER TABLE countries\n",
    "    ALTER COLUMN top_programs TYPE jsonb\n",
    "    USING to_jsonb(top_programs);\n",
    "\"\"\")\n",
    "\n",
    "conn.commit()\n",
    "cur.close()"
   ]
  },
  {
   "cell_type": "code",
   "execution_count": 12,
   "metadata": {},
   "outputs": [],
   "source": [
    "cur = conn.cursor()\n",
    "cur.execute(\"\"\"\n",
    "    ALTER TABLE institutions DROP COLUMN IF EXISTS top_programs;\n",
    "\"\"\")\n",
    "conn.commit()\n",
    "cur.close()"
   ]
  },
  {
   "cell_type": "code",
   "execution_count": null,
   "metadata": {},
   "outputs": [],
   "source": []
  }
 ],
 "metadata": {
  "kernelspec": {
   "display_name": "base",
   "language": "python",
   "name": "python3"
  },
  "language_info": {
   "codemirror_mode": {
    "name": "ipython",
    "version": 3
   },
   "file_extension": ".py",
   "mimetype": "text/x-python",
   "name": "python",
   "nbconvert_exporter": "python",
   "pygments_lexer": "ipython3",
   "version": "3.11.8"
  }
 },
 "nbformat": 4,
 "nbformat_minor": 2
}
