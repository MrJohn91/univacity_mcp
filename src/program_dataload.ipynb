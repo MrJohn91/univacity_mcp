{
 "cells": [
  {
   "cell_type": "code",
   "execution_count": 31,
   "metadata": {},
   "outputs": [
    {
     "name": "stdout",
     "output_type": "stream",
     "text": [
      "                                                name  \\\n",
      "0          Renewable Energies and Energy Efficiency    \n",
      "1  Civil Engineering with Second Major in Entrepr...   \n",
      "2  Mechanical Engineering with Second Major in En...   \n",
      "3  Aerospace Engineering with Second Major in Ent...   \n",
      "4  Natural Sciences at the Faculty of Environment...   \n",
      "\n",
      "                 program_id              institute_id  \\\n",
      "0  67cee87f6400e7152f7c15db  67c5b84d8e2c2e341bf3fab8   \n",
      "1  66dac376625be65e46d8905d  66d823c2c6e125955aa84c48   \n",
      "2  66deaaa5625be65e46f28b4a  66d823c2c6e125955aa84c48   \n",
      "3  66dea9a1625be65e46f2781a  66d823c2c6e125955aa84c48   \n",
      "4  668849f6832f8e31a77b65f7  6681a3b9832f8e31a753bf44   \n",
      "\n",
      "                     institute_name    countries  program_duration  tuition  \\\n",
      "0            University of Zaragoza      [Spain]                48  1378.72   \n",
      "1  Nanyang Technological University  [Singapore]                48  5262.50   \n",
      "2  Nanyang Technological University  [Singapore]                48  5262.50   \n",
      "3  Nanyang Technological University  [Singapore]                48  5262.50   \n",
      "4                University of Graz    [Austria]                36   363.36   \n",
      "\n",
      "   total_views  total_impressions   avg_ctr  rank_by_ctr  \n",
      "0         4854               4942  0.982193            1  \n",
      "1         1039               1060  0.980189            2  \n",
      "2          632                646  0.978328            3  \n",
      "3          457                469  0.974414            4  \n",
      "4         4898               5044  0.971055            5  \n"
     ]
    }
   ],
   "source": [
    "import pandas as pd\n",
    "import os\n",
    "import numpy as np\n",
    "parquet_path = '../local_data/gold/gold_program_engagement/part-00000-tid-1795281215647571771-4d650787-b0f2-405a-9083-71b2428618df-4619-1-c000.snappy.parquet'\n",
    "assert os.path.exists(parquet_path), f\"File not found: {parquet_path}\"\n",
    "\n",
    "# Load Parquet file into DataFrame\n",
    "df_programs = pd.read_parquet(parquet_path, engine='pyarrow')\n",
    "\n",
    "print(df_programs.head())\n"
   ]
  },
  {
   "cell_type": "code",
   "execution_count": 92,
   "metadata": {},
   "outputs": [],
   "source": [
    "import psycopg2\n",
    "from dotenv import load_dotenv\n",
    "import os\n",
    "\n",
    "# Load env vars\n",
    "load_dotenv()\n",
    "\n",
    "conn = psycopg2.connect(\n",
    "    host=os.getenv(\"PG_HOST\"),\n",
    "    port=os.getenv(\"PG_PORT\"),\n",
    "    user=os.getenv(\"PG_USER\"),\n",
    "    password=os.getenv(\"PG_PASSWORD\"),\n",
    "    dbname=os.getenv(\"PG_DB\")\n",
    ")\n",
    "\n",
    "cur = conn.cursor()"
   ]
  },
  {
   "cell_type": "code",
   "execution_count": 68,
   "metadata": {},
   "outputs": [],
   "source": [
    "conn.rollback()"
   ]
  },
  {
   "cell_type": "code",
   "execution_count": 25,
   "metadata": {},
   "outputs": [
    {
     "name": "stdout",
     "output_type": "stream",
     "text": [
      "Institution mapping sample: [('University of Helsinki', 92), ('VAMIA', 93), ('Univacity', 94)]\n",
      "Country mapping sample: [('United Kingdom', 1), ('Portugal', 2), ('Turkey', 3)]\n"
     ]
    }
   ],
   "source": [
    "with conn.cursor() as cur:\n",
    "    # Fetch institution_id and institution_name\n",
    "    cur.execute(\"SELECT institution_id, institution_name FROM institutions;\")\n",
    "    institution_map = {name: inst_id for inst_id, name in cur.fetchall()}\n",
    "    \n",
    "    # Fetch country_id and institute_country\n",
    "    cur.execute(\"SELECT country_id, institute_country FROM countries;\")\n",
    "    country_map = {country: cid for cid, country in cur.fetchall()}\n",
    "\n",
    "print(\"Institution mapping sample:\", list(institution_map.items())[:3])\n",
    "print(\"Country mapping sample:\", list(country_map.items())[:3])"
   ]
  },
  {
   "cell_type": "code",
   "execution_count": 34,
   "metadata": {},
   "outputs": [
    {
     "name": "stdout",
     "output_type": "stream",
     "text": [
      "Institutions in DF: ['Schiller International University', 'Romanian-American University', 'Nanjing Vocational University of Industry Technology', 'Politecnico di Milano', 'Centennial College']\n",
      "Countries in DF: ['Hungary', 'Austria', 'Algeria', 'Canada', None]\n"
     ]
    }
   ],
   "source": [
    "import numpy as np\n",
    "\n",
    "# Extract institutions (this is fine)\n",
    "institutions_in_df = set(df_programs['institute_name'].unique())\n",
    "\n",
    "# Extract countries manually since 'countries' column holds lists/arrays\n",
    "countries_in_df = set()\n",
    "for cell in df_programs['countries']:\n",
    "    # If the cell is list-like, get the first element\n",
    "    if isinstance(cell, (list, tuple, np.ndarray)):\n",
    "        if len(cell) > 0:\n",
    "            countries_in_df.add(cell[0])\n",
    "    else:\n",
    "        countries_in_df.add(cell)\n",
    "\n",
    "print(\"Institutions in DF:\", list(institutions_in_df)[:5])\n",
    "print(\"Countries in DF:\", list(countries_in_df)[:5])"
   ]
  },
  {
   "cell_type": "code",
   "execution_count": 35,
   "metadata": {},
   "outputs": [
    {
     "name": "stdout",
     "output_type": "stream",
     "text": [
      "Missing institutions: ['Nanjing Vocational University of Industry Technology', 'University of Graz', 'University of Twente', 'University of Glasgow', 'Vilnius University', 'European University of Tirana', 'Kaunas University of Technology', 'University of Alicante', 'Pompeu Fabra University', 'University of Salamanca', 'University of Manitoba', 'Alexandru Ioan Cuza University of Iasi (UAIC)', 'Nanyang Technological University', 'University of Granada', 'Lunex University', 'Tampere University', 'Blanquerna - Universitat Ramon Llull (URL)']\n",
      "Missing countries: ['Algeria', 'Lithuania', 'Singapore', 'Albania']\n"
     ]
    }
   ],
   "source": [
    "# Convert your institution_map and country_map keys to sets for easy lookup\n",
    "existing_institutions = set(institution_map.keys())\n",
    "existing_countries = set(country_map.keys())\n",
    "\n",
    "# Find missing institutions and countries\n",
    "missing_institutions = [inst for inst in institutions_in_df if inst not in existing_institutions]\n",
    "missing_countries = [c for c in countries_in_df if c is not None and c not in existing_countries]\n",
    "\n",
    "print(\"Missing institutions:\", missing_institutions)\n",
    "print(\"Missing countries:\", missing_countries)"
   ]
  },
  {
   "cell_type": "code",
   "execution_count": 40,
   "metadata": {},
   "outputs": [],
   "source": [
    "with conn.cursor() as cur:\n",
    "    cur.execute(\"SELECT setval('countries_country_id_seq', (SELECT MAX(country_id) FROM countries));\")\n",
    "    conn.commit()"
   ]
  },
  {
   "cell_type": "code",
   "execution_count": 41,
   "metadata": {},
   "outputs": [],
   "source": [
    "from datetime import datetime\n",
    "\n",
    "insert_country_sql = \"\"\"\n",
    "INSERT INTO countries (institute_country, created_at, updated_at)\n",
    "VALUES (%s, %s, %s)\n",
    "RETURNING country_id;\n",
    "\"\"\"\n",
    "\n",
    "now = datetime.utcnow()\n",
    "with conn.cursor() as cur:\n",
    "    for country in missing_countries:\n",
    "        # Insert new country and get the new ID\n",
    "        cur.execute(insert_country_sql, (country, now, now))\n",
    "        new_id = cur.fetchone()[0]\n",
    "        country_map[country] = new_id\n",
    "    conn.commit()"
   ]
  },
  {
   "cell_type": "code",
   "execution_count": 43,
   "metadata": {},
   "outputs": [],
   "source": [
    "import numpy as np\n",
    "from datetime import datetime\n",
    "\n",
    "insert_institution_sql = \"\"\"\n",
    "INSERT INTO institutions (institution_name, country_id, created_at, updated_at)\n",
    "VALUES (%s, %s, %s, %s)\n",
    "RETURNING institution_id;\n",
    "\"\"\"\n",
    "\n",
    "now = datetime.utcnow()\n",
    "\n",
    "with conn.cursor() as cur:\n",
    "    for institution in missing_institutions:\n",
    "        country_list = df_programs.loc[df_programs['institute_name'] == institution, 'countries'].values\n",
    "        \n",
    "        if len(country_list) > 0:\n",
    "            raw_country = country_list[0]\n",
    "            # Extract country name if it's a list or ndarray\n",
    "            if isinstance(raw_country, (list, np.ndarray)):\n",
    "                country_name = raw_country[0] if len(raw_country) > 0 else None\n",
    "            else:\n",
    "                country_name = raw_country\n",
    "        else:\n",
    "            country_name = None\n",
    "        \n",
    "        country_id = country_map.get(country_name, None)\n",
    "        \n",
    "        cur.execute(insert_institution_sql, (institution, country_id, now, now))\n",
    "        new_inst_id = cur.fetchone()[0]\n",
    "        institution_map[institution] = new_inst_id\n",
    "\n",
    "conn.commit()"
   ]
  },
  {
   "cell_type": "code",
   "execution_count": 45,
   "metadata": {},
   "outputs": [
    {
     "name": "stdout",
     "output_type": "stream",
     "text": [
      "Nulls in program_id after conversion: 5977\n",
      "Nulls in institute_id after conversion: 5977\n"
     ]
    }
   ],
   "source": [
    "df_programs['program_id'] = pd.to_numeric(df_programs['program_id'], errors='coerce').astype('Int64')\n",
    "df_programs['institute_id'] = pd.to_numeric(df_programs['institute_id'], errors='coerce').astype('Int64')\n",
    "\n",
    "# Check for any nulls that appeared due to conversion errors\n",
    "print(\"Nulls in program_id after conversion:\", df_programs['program_id'].isnull().sum())\n",
    "print(\"Nulls in institute_id after conversion:\", df_programs['institute_id'].isnull().sum())"
   ]
  },
  {
   "cell_type": "code",
   "execution_count": 47,
   "metadata": {},
   "outputs": [
    {
     "name": "stdout",
     "output_type": "stream",
     "text": [
      "institution_id: integer\n",
      "program_id: integer\n"
     ]
    }
   ],
   "source": [
    "with conn.cursor() as cur:\n",
    "    cur.execute(\"\"\"\n",
    "        SELECT column_name, data_type \n",
    "        FROM information_schema.columns \n",
    "        WHERE table_name = 'programs' \n",
    "          AND column_name IN ('program_id', 'institution_id');\n",
    "    \"\"\")\n",
    "    results = cur.fetchall()\n",
    "    for column_name, data_type in results:\n",
    "        print(f\"{column_name}: {data_type}\")"
   ]
  },
  {
   "cell_type": "code",
   "execution_count": 48,
   "metadata": {},
   "outputs": [
    {
     "name": "stdout",
     "output_type": "stream",
     "text": [
      "Nulls in institution_id after mapping: 0\n",
      "                     institute_name  institution_id_mapped\n",
      "0            University of Zaragoza                    178\n",
      "1  Nanyang Technological University                    202\n",
      "2  Nanyang Technological University                    202\n",
      "3  Nanyang Technological University                    202\n",
      "4                University of Graz                    191\n"
     ]
    }
   ],
   "source": [
    "# Assuming you already have institution_map like: {'University of Helsinki': 92, ...}\n",
    "\n",
    "# Create a new column institution_id by mapping institute_name using institution_map\n",
    "df_programs['institution_id_mapped'] = df_programs['institute_name'].map(institution_map)\n",
    "\n",
    "# Check how many nulls (missing mappings) you get\n",
    "null_count = df_programs['institution_id_mapped'].isnull().sum()\n",
    "print(f\"Nulls in institution_id after mapping: {null_count}\")\n",
    "\n",
    "# Preview the mapping result\n",
    "print(df_programs[['institute_name', 'institution_id_mapped']].head())"
   ]
  },
  {
   "cell_type": "code",
   "execution_count": 49,
   "metadata": {},
   "outputs": [
    {
     "name": "stdout",
     "output_type": "stream",
     "text": [
      "Nulls in country_id after mapping: 5977\n",
      "  country_name  country_id_mapped\n",
      "0         None                NaN\n",
      "1         None                NaN\n",
      "2         None                NaN\n",
      "3         None                NaN\n",
      "4         None                NaN\n"
     ]
    }
   ],
   "source": [
    "# Extract first country from the 'countries' list column\n",
    "df_programs['country_name'] = df_programs['countries'].apply(lambda x: x[0] if isinstance(x, list) and len(x) > 0 else None)\n",
    "\n",
    "# Map country names to country IDs using the country_map dictionary\n",
    "df_programs['country_id_mapped'] = df_programs['country_name'].map(country_map)\n",
    "\n",
    "# Check for nulls after mapping countries\n",
    "null_country_count = df_programs['country_id_mapped'].isnull().sum()\n",
    "print(f\"Nulls in country_id after mapping: {null_country_count}\")\n",
    "\n",
    "# Preview the result\n",
    "print(df_programs[['country_name', 'country_id_mapped']].head())"
   ]
  },
  {
   "cell_type": "code",
   "execution_count": 50,
   "metadata": {},
   "outputs": [
    {
     "name": "stdout",
     "output_type": "stream",
     "text": [
      "0             [Spain]\n",
      "1         [Singapore]\n",
      "2         [Singapore]\n",
      "3         [Singapore]\n",
      "4           [Austria]\n",
      "5    [United Kingdom]\n",
      "6         [Singapore]\n",
      "7         [Singapore]\n",
      "8    [United Kingdom]\n",
      "9    [United Kingdom]\n",
      "Name: countries, dtype: object\n"
     ]
    }
   ],
   "source": [
    "print(df_programs['countries'].head(10))"
   ]
  },
  {
   "cell_type": "code",
   "execution_count": 51,
   "metadata": {},
   "outputs": [
    {
     "name": "stdout",
     "output_type": "stream",
     "text": [
      "Rows with None or empty country list: 8\n"
     ]
    }
   ],
   "source": [
    "empty_or_none = df_programs['countries'].apply(lambda x: (x is None) or (len(x) == 0)).sum()\n",
    "print(f\"Rows with None or empty country list: {empty_or_none}\")"
   ]
  },
  {
   "cell_type": "code",
   "execution_count": 58,
   "metadata": {},
   "outputs": [],
   "source": [
    "import numpy as np\n",
    "\n",
    "def extract_country_name(country_arr):\n",
    "    if (isinstance(country_arr, list) or isinstance(country_arr, np.ndarray)) and len(country_arr) > 0:\n",
    "        return country_arr[0]\n",
    "    else:\n",
    "        return None\n",
    "\n",
    "df_programs['country_name'] = df_programs['countries'].apply(extract_country_name)"
   ]
  },
  {
   "cell_type": "code",
   "execution_count": 59,
   "metadata": {},
   "outputs": [
    {
     "name": "stdout",
     "output_type": "stream",
     "text": [
      "Nulls in country_id after mapping: 8\n"
     ]
    }
   ],
   "source": [
    "df_programs['country_id_mapped'] = df_programs['country_name'].map(country_map)\n",
    "\n",
    "print(f\"Nulls in country_id after mapping: {df_programs['country_id_mapped'].isna().sum()}\")"
   ]
  },
  {
   "cell_type": "code",
   "execution_count": 60,
   "metadata": {},
   "outputs": [
    {
     "name": "stdout",
     "output_type": "stream",
     "text": [
      "     countries country_name\n",
      "701       None         None\n",
      "4276      None         None\n",
      "4605      None         None\n",
      "4671      None         None\n",
      "4859      None         None\n",
      "5145      None         None\n",
      "5693      None         None\n",
      "5912      None         None\n"
     ]
    }
   ],
   "source": [
    "missing_countries_df = df_programs[df_programs['country_id_mapped'].isnull()][['countries', 'country_name']]\n",
    "print(missing_countries_df.head(10))"
   ]
  },
  {
   "cell_type": "code",
   "execution_count": 62,
   "metadata": {},
   "outputs": [
    {
     "name": "stdout",
     "output_type": "stream",
     "text": [
      "name                      object\n",
      "program_id                 Int64\n",
      "institute_id               Int64\n",
      "institute_name            object\n",
      "countries                 object\n",
      "program_duration           int64\n",
      "tuition                  float64\n",
      "total_views                int64\n",
      "total_impressions          int64\n",
      "avg_ctr                  float64\n",
      "rank_by_ctr                int32\n",
      "institution_id_mapped      int64\n",
      "country_name              object\n",
      "country_id_mapped        float64\n",
      "dtype: object\n"
     ]
    }
   ],
   "source": [
    "print(df_programs.dtypes)"
   ]
  },
  {
   "cell_type": "code",
   "execution_count": 63,
   "metadata": {},
   "outputs": [],
   "source": [
    "df_programs.rename(columns={\n",
    "    'name': 'program_name',\n",
    "    'program_duration': 'duration_months',\n",
    "    'avg_ctr': 'ctr',\n",
    "    'institution_id_mapped': 'institution_id',\n",
    "    'country_id_mapped': 'country_id'\n",
    "}, inplace=True)"
   ]
  },
  {
   "cell_type": "code",
   "execution_count": 64,
   "metadata": {},
   "outputs": [],
   "source": [
    "df_programs = df_programs.dropna(subset=['country_id'])  \n",
    "df_programs['country_id'] = df_programs['country_id'].astype(int)"
   ]
  },
  {
   "cell_type": "code",
   "execution_count": 65,
   "metadata": {},
   "outputs": [],
   "source": [
    "from datetime import datetime\n",
    "now = datetime.utcnow()\n",
    "df_programs['created_at'] = now\n",
    "df_programs['updated_at'] = now"
   ]
  },
  {
   "cell_type": "code",
   "execution_count": 81,
   "metadata": {},
   "outputs": [],
   "source": [
    "conn.rollback()"
   ]
  },
  {
   "cell_type": "code",
   "execution_count": 85,
   "metadata": {},
   "outputs": [],
   "source": [
    "from psycopg2.extras import execute_batch\n",
    "\n",
    "insert_sql = \"\"\"\n",
    "INSERT INTO programs (\n",
    "    program_name, institution_id, country_id, duration_months,\n",
    "    tuition, total_views, total_impressions, ctr,\n",
    "    created_at, updated_at\n",
    ") VALUES (\n",
    "    %(program_name)s, %(institution_id)s, %(country_id)s, %(duration_months)s,\n",
    "    %(tuition)s, %(total_views)s, %(total_impressions)s, %(ctr)s,\n",
    "    %(created_at)s, %(updated_at)s\n",
    ")\n",
    "\"\"\"\n",
    "\n",
    "df_to_insert = df_programs[[\n",
    "    'program_name', 'institution_id', 'country_id', 'duration_months',\n",
    "    'tuition', 'total_views', 'total_impressions', 'ctr',\n",
    "    'created_at', 'updated_at'\n",
    "]].copy()\n",
    "\n",
    "df_to_insert = df_to_insert.dropna(subset=['program_name', 'institution_id', 'country_id'])\n",
    "\n",
    "data_to_insert = df_to_insert.to_dict(orient='records')\n",
    "\n",
    "with conn.cursor() as cur:\n",
    "    execute_batch(cur, insert_sql, data_to_insert)\n",
    "    conn.commit()"
   ]
  },
  {
   "cell_type": "code",
   "execution_count": 91,
   "metadata": {},
   "outputs": [
    {
     "name": "stdout",
     "output_type": "stream",
     "text": [
      "(1, ' Renewable Energies and Energy Efficiency ', 178, 8, Decimal('1378.72'))\n",
      "(2, 'Civil Engineering with Second Major in Entrepreneurship', 202, 32, Decimal('5262.50'))\n",
      "(3, 'Mechanical Engineering with Second Major in Entrepreneurship', 202, 32, Decimal('5262.50'))\n",
      "(4, 'Aerospace Engineering with Second Major in Entrepreneurship\\u200b', 202, 32, Decimal('5262.50'))\n",
      "(5, 'Natural Sciences at the Faculty of Environmental, Regional and Educational Sciences', 191, 11, Decimal('363.36'))\n"
     ]
    }
   ],
   "source": [
    "with conn.cursor() as cur:\n",
    "    cur.execute(\"SELECT program_id, program_name, institution_id, country_id, tuition FROM programs LIMIT 5;\")\n",
    "    rows = cur.fetchall()\n",
    "    for row in rows:\n",
    "        print(row)"
   ]
  }
 ],
 "metadata": {
  "kernelspec": {
   "display_name": "base",
   "language": "python",
   "name": "python3"
  },
  "language_info": {
   "codemirror_mode": {
    "name": "ipython",
    "version": 3
   },
   "file_extension": ".py",
   "mimetype": "text/x-python",
   "name": "python",
   "nbconvert_exporter": "python",
   "pygments_lexer": "ipython3",
   "version": "3.11.8"
  }
 },
 "nbformat": 4,
 "nbformat_minor": 4
}
